{
 "cells": [
  {
   "cell_type": "markdown",
   "metadata": {},
   "source": [
    "# AGAVE\n",
    "A Graphical Abstract Verification Engine"
   ]
  },
  {
   "cell_type": "code",
   "execution_count": 1,
   "metadata": {},
   "outputs": [],
   "source": [
    "%load_ext autoreload\n",
    "%autoreload 2"
   ]
  },
  {
   "cell_type": "markdown",
   "metadata": {},
   "source": [
    "## Setup"
   ]
  },
  {
   "cell_type": "code",
   "execution_count": 2,
   "metadata": {},
   "outputs": [],
   "source": [
    "from agave.engine.data_access_layer import CooccurrencyGraph, PaperCache, Metadata"
   ]
  },
  {
   "cell_type": "code",
   "execution_count": 3,
   "metadata": {},
   "outputs": [],
   "source": [
    "from agave.engine.query_manager import MichaelScott as Manager"
   ]
  },
  {
   "cell_type": "code",
   "execution_count": 4,
   "metadata": {},
   "outputs": [],
   "source": [
    "graph_db_uri = 'neo4j+s://91bd4f79.databases.neo4j.io'\n",
    "graph_db_user = 'neo4j'\n",
    "graph_db_password = 'syc9_tjj2ECTW03hPNtfSN4j6G6Q6lKUUp7YkYP3ALc'\n",
    "graph_db = CooccurrencyGraph(graph_db_uri, graph_db_user, graph_db_password)"
   ]
  },
  {
   "cell_type": "code",
   "execution_count": 5,
   "metadata": {},
   "outputs": [
    {
     "name": "stdout",
     "output_type": "stream",
     "text": [
      "Connection established\n"
     ]
    }
   ],
   "source": [
    "graph_db.test_connection()"
   ]
  },
  {
   "cell_type": "code",
   "execution_count": 6,
   "metadata": {},
   "outputs": [],
   "source": [
    "paper_cache = PaperCache('~/Documents/tesi_local/agave-0/entity_paper.db', '~/Documents/tesi_local/agave-0/bigram_paper.db')"
   ]
  },
  {
   "cell_type": "code",
   "execution_count": 101,
   "metadata": {},
   "outputs": [],
   "source": [
    "metadata = Metadata('~/Code/CovEffect-data-provision/products/raw/metadata.csv', sample=True)"
   ]
  },
  {
   "cell_type": "markdown",
   "metadata": {},
   "source": [
    "## Querying"
   ]
  },
  {
   "cell_type": "markdown",
   "metadata": {},
   "source": [
    "#### Note"
   ]
  },
  {
   "cell_type": "markdown",
   "metadata": {},
   "source": [
    "- Ho una chain di entities\n",
    "- paths per ogni coppia di entities\n",
    "- Per ogni coppia:\n",
    "    - scelgo un path, prendo i papers\n",
    "    - metto i papers nel gatherer, mi segno le relazioni, mi segno se contengono quelle della query\n",
    "- Ordino i paper:\n",
    "    - Prima quelli che spiegano più della catena originale\n",
    "    - Secondi quelli che spiegano tanti nodi comunque\n",
    "    - Gli altri per data e qualità\n",
    "    "
   ]
  },
  {
   "cell_type": "markdown",
   "metadata": {},
   "source": [
    "#### "
   ]
  },
  {
   "cell_type": "code",
   "execution_count": 152,
   "metadata": {},
   "outputs": [],
   "source": [
    "the_manager = Manager(metadata, paper_cache, graph_db)"
   ]
  },
  {
   "cell_type": "code",
   "execution_count": 153,
   "metadata": {},
   "outputs": [],
   "source": [
    "chain = ['BRCA1','paracetamol','death','breast cancer']\n",
    "the_manager.find_single_chain(chain)"
   ]
  },
  {
   "cell_type": "code",
   "execution_count": 154,
   "metadata": {},
   "outputs": [
    {
     "name": "stdout",
     "output_type": "stream",
     "text": [
      "BRCA1-->paracetamol\n",
      "0 ['BRCA1<SEP>patients', 'paracetamol<SEP>patients'] \t\t\t 51.5\n",
      "-------------------------\n",
      "paracetamol-->death\n",
      "0 ['paracetamol<SEP>patients', 'death<SEP>patients'] \t\t\t 5416.0\n",
      "1 ['COVID-19<SEP>paracetamol', 'COVID-19<SEP>death'] \t\t\t 5141.0\n",
      "2 ['paracetamol<SEP>patient', 'death<SEP>patient'] \t\t\t 1493.0\n",
      "3 ['drug<SEP>paracetamol', 'death<SEP>drug'] \t\t\t 479.5\n",
      "4 ['children<SEP>paracetamol', 'children<SEP>death'] \t\t\t 463.0\n",
      "5 ['fever<SEP>paracetamol', 'death<SEP>fever'] \t\t\t 445.5\n",
      "6 ['pain<SEP>paracetamol', 'death<SEP>pain'] \t\t\t 108.0\n",
      "-------------------------\n",
      "death-->breast cancer\n",
      "0 ['breast cancer<SEP>death'] \t\t\t 103.0\n",
      "-------------------------\n"
     ]
    }
   ],
   "source": [
    "the_manager.show_single_chain_result()"
   ]
  },
  {
   "cell_type": "code",
   "execution_count": 155,
   "metadata": {},
   "outputs": [
    {
     "name": "stdout",
     "output_type": "stream",
     "text": [
      "BRCA1-->paracetamol\n",
      "0 ['BRCA1<SEP>patients', 'paracetamol<SEP>patients']\n",
      "death-->breast cancer\n",
      "2 ['paracetamol<SEP>patient', 'death<SEP>patient']\n",
      "BRCA1-->paracetamol\n",
      "0 ['breast cancer<SEP>death']\n"
     ]
    }
   ],
   "source": [
    "the_manager.select_path_single_chain([0,2,0])"
   ]
  },
  {
   "cell_type": "code",
   "execution_count": 156,
   "metadata": {},
   "outputs": [],
   "source": [
    "#the_manager.stoner.get_selected_path_relations()"
   ]
  },
  {
   "cell_type": "code",
   "execution_count": 157,
   "metadata": {},
   "outputs": [],
   "source": [
    "the_manager.gather_papers()"
   ]
  },
  {
   "cell_type": "code",
   "execution_count": 158,
   "metadata": {},
   "outputs": [
    {
     "data": {
      "text/html": [
       "<div>\n",
       "<style scoped>\n",
       "    .dataframe tbody tr th:only-of-type {\n",
       "        vertical-align: middle;\n",
       "    }\n",
       "\n",
       "    .dataframe tbody tr th {\n",
       "        vertical-align: top;\n",
       "    }\n",
       "\n",
       "    .dataframe thead th {\n",
       "        text-align: right;\n",
       "    }\n",
       "</style>\n",
       "<table border=\"1\" class=\"dataframe\">\n",
       "  <thead>\n",
       "    <tr style=\"text-align: right;\">\n",
       "      <th></th>\n",
       "      <th>cord_uid</th>\n",
       "      <th>relation</th>\n",
       "      <th>original</th>\n",
       "    </tr>\n",
       "  </thead>\n",
       "  <tbody>\n",
       "    <tr>\n",
       "      <th>0</th>\n",
       "      <td>l0wc31to</td>\n",
       "      <td>BRCA1&lt;SEP&gt;patients</td>\n",
       "      <td>True</td>\n",
       "    </tr>\n",
       "    <tr>\n",
       "      <th>1</th>\n",
       "      <td>ikstn4yk</td>\n",
       "      <td>BRCA1&lt;SEP&gt;patients</td>\n",
       "      <td>True</td>\n",
       "    </tr>\n",
       "    <tr>\n",
       "      <th>2</th>\n",
       "      <td>bhsw2wv4</td>\n",
       "      <td>BRCA1&lt;SEP&gt;patients</td>\n",
       "      <td>True</td>\n",
       "    </tr>\n",
       "    <tr>\n",
       "      <th>3</th>\n",
       "      <td>57i1jaol</td>\n",
       "      <td>BRCA1&lt;SEP&gt;patients</td>\n",
       "      <td>True</td>\n",
       "    </tr>\n",
       "    <tr>\n",
       "      <th>4</th>\n",
       "      <td>0qewmjn1</td>\n",
       "      <td>BRCA1&lt;SEP&gt;patients</td>\n",
       "      <td>True</td>\n",
       "    </tr>\n",
       "    <tr>\n",
       "      <th>...</th>\n",
       "      <td>...</td>\n",
       "      <td>...</td>\n",
       "      <td>...</td>\n",
       "    </tr>\n",
       "    <tr>\n",
       "      <th>3182</th>\n",
       "      <td>35z11126</td>\n",
       "      <td>breast cancer&lt;SEP&gt;death</td>\n",
       "      <td>True</td>\n",
       "    </tr>\n",
       "    <tr>\n",
       "      <th>3183</th>\n",
       "      <td>817f3rer</td>\n",
       "      <td>breast cancer&lt;SEP&gt;death</td>\n",
       "      <td>True</td>\n",
       "    </tr>\n",
       "    <tr>\n",
       "      <th>3184</th>\n",
       "      <td>oduk7qax</td>\n",
       "      <td>breast cancer&lt;SEP&gt;death</td>\n",
       "      <td>True</td>\n",
       "    </tr>\n",
       "    <tr>\n",
       "      <th>3185</th>\n",
       "      <td>398je5tr</td>\n",
       "      <td>breast cancer&lt;SEP&gt;death</td>\n",
       "      <td>True</td>\n",
       "    </tr>\n",
       "    <tr>\n",
       "      <th>3186</th>\n",
       "      <td>yhltrnlq</td>\n",
       "      <td>breast cancer&lt;SEP&gt;death</td>\n",
       "      <td>True</td>\n",
       "    </tr>\n",
       "  </tbody>\n",
       "</table>\n",
       "<p>3187 rows × 3 columns</p>\n",
       "</div>"
      ],
      "text/plain": [
       "      cord_uid                 relation original\n",
       "0     l0wc31to       BRCA1<SEP>patients     True\n",
       "1     ikstn4yk       BRCA1<SEP>patients     True\n",
       "2     bhsw2wv4       BRCA1<SEP>patients     True\n",
       "3     57i1jaol       BRCA1<SEP>patients     True\n",
       "4     0qewmjn1       BRCA1<SEP>patients     True\n",
       "...        ...                      ...      ...\n",
       "3182  35z11126  breast cancer<SEP>death     True\n",
       "3183  817f3rer  breast cancer<SEP>death     True\n",
       "3184  oduk7qax  breast cancer<SEP>death     True\n",
       "3185  398je5tr  breast cancer<SEP>death     True\n",
       "3186  yhltrnlq  breast cancer<SEP>death     True\n",
       "\n",
       "[3187 rows x 3 columns]"
      ]
     },
     "execution_count": 158,
     "metadata": {},
     "output_type": "execute_result"
    }
   ],
   "source": [
    "the_manager.gatherer.papers"
   ]
  },
  {
   "cell_type": "code",
   "execution_count": 174,
   "metadata": {},
   "outputs": [],
   "source": [
    "the_manager.gatherer.extract_papers()"
   ]
  },
  {
   "cell_type": "code",
   "execution_count": 176,
   "metadata": {},
   "outputs": [
    {
     "data": {
      "text/html": [
       "<div>\n",
       "<style scoped>\n",
       "    .dataframe tbody tr th:only-of-type {\n",
       "        vertical-align: middle;\n",
       "    }\n",
       "\n",
       "    .dataframe tbody tr th {\n",
       "        vertical-align: top;\n",
       "    }\n",
       "\n",
       "    .dataframe thead th {\n",
       "        text-align: right;\n",
       "    }\n",
       "</style>\n",
       "<table border=\"1\" class=\"dataframe\">\n",
       "  <thead>\n",
       "    <tr style=\"text-align: right;\">\n",
       "      <th></th>\n",
       "      <th>cord_uid</th>\n",
       "      <th>title</th>\n",
       "      <th>abstract</th>\n",
       "      <th>doi</th>\n",
       "      <th>authors</th>\n",
       "      <th>journal</th>\n",
       "      <th>publish_time</th>\n",
       "      <th>occurrences</th>\n",
       "      <th>explained_relations</th>\n",
       "    </tr>\n",
       "  </thead>\n",
       "  <tbody>\n",
       "    <tr>\n",
       "      <th>0</th>\n",
       "      <td>00rezmqj</td>\n",
       "      <td>Intra-arterial administration of a replication...</td>\n",
       "      <td>Both replication-incompetent and replication-s...</td>\n",
       "      <td>10.1038/sj.gt.3301512</td>\n",
       "      <td>Reid, T; Galanis, E; Abbruzzese, J; Sze, D; An...</td>\n",
       "      <td>Gene Ther</td>\n",
       "      <td>2001-11-22 00:00:00</td>\n",
       "      <td>1</td>\n",
       "      <td>['death&lt;SEP&gt;patient']</td>\n",
       "    </tr>\n",
       "    <tr>\n",
       "      <th>1</th>\n",
       "      <td>0nyy7vjo</td>\n",
       "      <td>Tuberculosis mortality: patient characteristic...</td>\n",
       "      <td>BACKGROUND: In the antibiotic era, tuberculosi...</td>\n",
       "      <td>10.1186/1471-2334-14-5</td>\n",
       "      <td>Lin, Chou-Han; Lin, Chou-Jui; Kuo, Yao-Wen; Wa...</td>\n",
       "      <td>BMC Infect Dis</td>\n",
       "      <td>2014-01-03 00:00:00</td>\n",
       "      <td>1</td>\n",
       "      <td>['death&lt;SEP&gt;patient']</td>\n",
       "    </tr>\n",
       "    <tr>\n",
       "      <th>2</th>\n",
       "      <td>18dxcn41</td>\n",
       "      <td>Demographic profile and outcome analysis of a ...</td>\n",
       "      <td>Objective : To study the profile and outcome o...</td>\n",
       "      <td>10.1007/bf02724117</td>\n",
       "      <td>Khilnani, Praveen; Sarma, Devajit; Singh, Reet...</td>\n",
       "      <td>Indian J Pediatr</td>\n",
       "      <td>2004-01-01 00:00:00</td>\n",
       "      <td>1</td>\n",
       "      <td>['death&lt;SEP&gt;patient']</td>\n",
       "    </tr>\n",
       "    <tr>\n",
       "      <th>3</th>\n",
       "      <td>1vimqhdp</td>\n",
       "      <td>36th International Symposium on Intensive Care...</td>\n",
       "      <td>P001 - Sepsis impairs the capillary response w...</td>\n",
       "      <td>10.1186/s13054-016-1208-6</td>\n",
       "      <td>Bateman, R. M.; Sharpe, M. D.; Jagger, J. E.; ...</td>\n",
       "      <td>Crit Care</td>\n",
       "      <td>2016-04-20 00:00:00</td>\n",
       "      <td>1</td>\n",
       "      <td>['death&lt;SEP&gt;patient']</td>\n",
       "    </tr>\n",
       "    <tr>\n",
       "      <th>4</th>\n",
       "      <td>271vldil</td>\n",
       "      <td>Understanding the clinical spectrum of complic...</td>\n",
       "      <td>The resurgence of the malaria eradication agen...</td>\n",
       "      <td>10.1186/1475-2875-11-12</td>\n",
       "      <td>Lacerda, Marcus VG; Mourão, Maria PG; Alexandr...</td>\n",
       "      <td>Malar J</td>\n",
       "      <td>2012-01-09 00:00:00</td>\n",
       "      <td>1</td>\n",
       "      <td>['death&lt;SEP&gt;patient']</td>\n",
       "    </tr>\n",
       "  </tbody>\n",
       "</table>\n",
       "</div>"
      ],
      "text/plain": [
       "   cord_uid                                              title  \\\n",
       "0  00rezmqj  Intra-arterial administration of a replication...   \n",
       "1  0nyy7vjo  Tuberculosis mortality: patient characteristic...   \n",
       "2  18dxcn41  Demographic profile and outcome analysis of a ...   \n",
       "3  1vimqhdp  36th International Symposium on Intensive Care...   \n",
       "4  271vldil  Understanding the clinical spectrum of complic...   \n",
       "\n",
       "                                            abstract  \\\n",
       "0  Both replication-incompetent and replication-s...   \n",
       "1  BACKGROUND: In the antibiotic era, tuberculosi...   \n",
       "2  Objective : To study the profile and outcome o...   \n",
       "3  P001 - Sepsis impairs the capillary response w...   \n",
       "4  The resurgence of the malaria eradication agen...   \n",
       "\n",
       "                         doi  \\\n",
       "0      10.1038/sj.gt.3301512   \n",
       "1     10.1186/1471-2334-14-5   \n",
       "2         10.1007/bf02724117   \n",
       "3  10.1186/s13054-016-1208-6   \n",
       "4    10.1186/1475-2875-11-12   \n",
       "\n",
       "                                             authors           journal  \\\n",
       "0  Reid, T; Galanis, E; Abbruzzese, J; Sze, D; An...         Gene Ther   \n",
       "1  Lin, Chou-Han; Lin, Chou-Jui; Kuo, Yao-Wen; Wa...    BMC Infect Dis   \n",
       "2  Khilnani, Praveen; Sarma, Devajit; Singh, Reet...  Indian J Pediatr   \n",
       "3  Bateman, R. M.; Sharpe, M. D.; Jagger, J. E.; ...         Crit Care   \n",
       "4  Lacerda, Marcus VG; Mourão, Maria PG; Alexandr...           Malar J   \n",
       "\n",
       "          publish_time occurrences    explained_relations  \n",
       "0  2001-11-22 00:00:00           1  ['death<SEP>patient']  \n",
       "1  2014-01-03 00:00:00           1  ['death<SEP>patient']  \n",
       "2  2004-01-01 00:00:00           1  ['death<SEP>patient']  \n",
       "3  2016-04-20 00:00:00           1  ['death<SEP>patient']  \n",
       "4  2012-01-09 00:00:00           1  ['death<SEP>patient']  "
      ]
     },
     "execution_count": 176,
     "metadata": {},
     "output_type": "execute_result"
    }
   ],
   "source": [
    "the_manager.gatherer.extracted_papers.head()"
   ]
  }
 ],
 "metadata": {
  "interpreter": {
   "hash": "caa5824f7b33868d778b51c16e90bc7bd4be91aba3493046d2b42331ca349796"
  },
  "kernelspec": {
   "display_name": "Python 3.10.4 ('.venv': venv)",
   "language": "python",
   "name": "python3"
  },
  "language_info": {
   "codemirror_mode": {
    "name": "ipython",
    "version": 3
   },
   "file_extension": ".py",
   "mimetype": "text/x-python",
   "name": "python",
   "nbconvert_exporter": "python",
   "pygments_lexer": "ipython3",
   "version": "3.10.4"
  },
  "orig_nbformat": 4
 },
 "nbformat": 4,
 "nbformat_minor": 2
}
