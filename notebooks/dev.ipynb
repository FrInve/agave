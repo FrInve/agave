{
 "cells": [
  {
   "cell_type": "markdown",
   "metadata": {},
   "source": [
    "# AGAVE\n",
    "A Graphical Abstract Verification Engine"
   ]
  },
  {
   "cell_type": "code",
   "execution_count": 1,
   "metadata": {},
   "outputs": [],
   "source": [
    "%load_ext autoreload\n",
    "%autoreload 2"
   ]
  },
  {
   "cell_type": "markdown",
   "metadata": {},
   "source": [
    "## Setup"
   ]
  },
  {
   "cell_type": "code",
   "execution_count": 2,
   "metadata": {},
   "outputs": [],
   "source": [
    "from agave.engine.data_access_layer import CooccurrencyGraph, PaperCache, Metadata"
   ]
  },
  {
   "cell_type": "code",
   "execution_count": 3,
   "metadata": {},
   "outputs": [],
   "source": [
    "from agave.engine.query_manager import MichaelScott as Manager"
   ]
  },
  {
   "cell_type": "code",
   "execution_count": 4,
   "metadata": {},
   "outputs": [],
   "source": [
    "graph_db_uri = 'neo4j+s://91bd4f79.databases.neo4j.io'\n",
    "graph_db_user = 'neo4j'\n",
    "graph_db_password = 'syc9_tjj2ECTW03hPNtfSN4j6G6Q6lKUUp7YkYP3ALc'\n",
    "graph_db = CooccurrencyGraph(graph_db_uri, graph_db_user, graph_db_password)"
   ]
  },
  {
   "cell_type": "code",
   "execution_count": 5,
   "metadata": {},
   "outputs": [
    {
     "name": "stdout",
     "output_type": "stream",
     "text": [
      "Connection established\n"
     ]
    }
   ],
   "source": [
    "graph_db.test_connection()"
   ]
  },
  {
   "cell_type": "code",
   "execution_count": 6,
   "metadata": {},
   "outputs": [],
   "source": [
    "paper_cache = PaperCache('~/Documents/tesi_local/agave-0/entity_paper.db', '~/Documents/tesi_local/agave-0/bigram_paper.db')"
   ]
  },
  {
   "cell_type": "code",
   "execution_count": 7,
   "metadata": {},
   "outputs": [],
   "source": [
    "metadata = Metadata('~/Code/CovEffect-data-provision/products/raw/metadata.csv', sample=True)"
   ]
  },
  {
   "cell_type": "markdown",
   "metadata": {},
   "source": [
    "## Querying"
   ]
  },
  {
   "cell_type": "markdown",
   "metadata": {},
   "source": [
    "#### Note"
   ]
  },
  {
   "cell_type": "markdown",
   "metadata": {},
   "source": [
    "- Ho una chain di entities\n",
    "- paths per ogni coppia di entities\n",
    "- Per ogni coppia:\n",
    "    - scelgo un path, prendo i papers\n",
    "    - metto i papers nel gatherer, mi segno le relazioni, mi segno se contengono quelle della query\n",
    "- Ordino i paper:\n",
    "    - Prima quelli che spiegano più della catena originale\n",
    "    - Secondi quelli che spiegano tanti nodi comunque\n",
    "    - Gli altri per data e qualità\n",
    "    "
   ]
  },
  {
   "cell_type": "markdown",
   "metadata": {},
   "source": [
    "#### "
   ]
  },
  {
   "cell_type": "code",
   "execution_count": 9,
   "metadata": {},
   "outputs": [],
   "source": [
    "the_manager = Manager(metadata, paper_cache, graph_db)"
   ]
  },
  {
   "cell_type": "code",
   "execution_count": 10,
   "metadata": {},
   "outputs": [],
   "source": [
    "chain = ['BRCA1','paracetamol','death','breast cancer']\n",
    "the_manager.find_single_chain(chain)"
   ]
  },
  {
   "cell_type": "code",
   "execution_count": 11,
   "metadata": {},
   "outputs": [
    {
     "name": "stdout",
     "output_type": "stream",
     "text": [
      "BRCA1-->paracetamol\n",
      "0 ['BRCA1<SEP>patients', 'paracetamol<SEP>patients'] \t\t\t 51.5\n",
      "-------------------------\n",
      "paracetamol-->death\n",
      "0 ['paracetamol<SEP>patients', 'death<SEP>patients'] \t\t\t 5416.0\n",
      "1 ['COVID-19<SEP>paracetamol', 'COVID-19<SEP>death'] \t\t\t 5141.0\n",
      "2 ['paracetamol<SEP>patient', 'death<SEP>patient'] \t\t\t 1493.0\n",
      "3 ['drug<SEP>paracetamol', 'death<SEP>drug'] \t\t\t 479.5\n",
      "4 ['children<SEP>paracetamol', 'children<SEP>death'] \t\t\t 463.0\n",
      "5 ['fever<SEP>paracetamol', 'death<SEP>fever'] \t\t\t 445.5\n",
      "6 ['pain<SEP>paracetamol', 'death<SEP>pain'] \t\t\t 108.0\n",
      "-------------------------\n",
      "death-->breast cancer\n",
      "0 ['breast cancer<SEP>death'] \t\t\t 103.0\n",
      "-------------------------\n"
     ]
    }
   ],
   "source": [
    "the_manager.show_single_chain_result()"
   ]
  },
  {
   "cell_type": "code",
   "execution_count": 12,
   "metadata": {},
   "outputs": [
    {
     "name": "stdout",
     "output_type": "stream",
     "text": [
      "BRCA1-->paracetamol\n",
      "0 ['BRCA1<SEP>patients', 'paracetamol<SEP>patients']\n",
      "death-->breast cancer\n",
      "2 ['paracetamol<SEP>patient', 'death<SEP>patient']\n",
      "BRCA1-->paracetamol\n",
      "0 ['breast cancer<SEP>death']\n"
     ]
    }
   ],
   "source": [
    "the_manager.select_path_single_chain([0,2,0])"
   ]
  },
  {
   "cell_type": "code",
   "execution_count": 12,
   "metadata": {},
   "outputs": [],
   "source": [
    "#the_manager.stoner.get_selected_path_relations()"
   ]
  },
  {
   "cell_type": "code",
   "execution_count": 13,
   "metadata": {},
   "outputs": [],
   "source": [
    "the_manager._gather_papers()"
   ]
  },
  {
   "cell_type": "code",
   "execution_count": 14,
   "metadata": {},
   "outputs": [
    {
     "data": {
      "text/html": [
       "<div>\n",
       "<style scoped>\n",
       "    .dataframe tbody tr th:only-of-type {\n",
       "        vertical-align: middle;\n",
       "    }\n",
       "\n",
       "    .dataframe tbody tr th {\n",
       "        vertical-align: top;\n",
       "    }\n",
       "\n",
       "    .dataframe thead th {\n",
       "        text-align: right;\n",
       "    }\n",
       "</style>\n",
       "<table border=\"1\" class=\"dataframe\">\n",
       "  <thead>\n",
       "    <tr style=\"text-align: right;\">\n",
       "      <th></th>\n",
       "      <th>cord_uid</th>\n",
       "      <th>relation</th>\n",
       "      <th>original</th>\n",
       "      <th>meta_relation</th>\n",
       "    </tr>\n",
       "  </thead>\n",
       "  <tbody>\n",
       "    <tr>\n",
       "      <th>0</th>\n",
       "      <td>l0wc31to</td>\n",
       "      <td>BRCA1&lt;SEP&gt;patients</td>\n",
       "      <td>True</td>\n",
       "      <td>BRCA1--&gt;paracetamol</td>\n",
       "    </tr>\n",
       "    <tr>\n",
       "      <th>1</th>\n",
       "      <td>ikstn4yk</td>\n",
       "      <td>BRCA1&lt;SEP&gt;patients</td>\n",
       "      <td>True</td>\n",
       "      <td>BRCA1--&gt;paracetamol</td>\n",
       "    </tr>\n",
       "    <tr>\n",
       "      <th>2</th>\n",
       "      <td>bhsw2wv4</td>\n",
       "      <td>BRCA1&lt;SEP&gt;patients</td>\n",
       "      <td>True</td>\n",
       "      <td>BRCA1--&gt;paracetamol</td>\n",
       "    </tr>\n",
       "    <tr>\n",
       "      <th>3</th>\n",
       "      <td>57i1jaol</td>\n",
       "      <td>BRCA1&lt;SEP&gt;patients</td>\n",
       "      <td>True</td>\n",
       "      <td>BRCA1--&gt;paracetamol</td>\n",
       "    </tr>\n",
       "    <tr>\n",
       "      <th>4</th>\n",
       "      <td>0qewmjn1</td>\n",
       "      <td>BRCA1&lt;SEP&gt;patients</td>\n",
       "      <td>True</td>\n",
       "      <td>BRCA1--&gt;paracetamol</td>\n",
       "    </tr>\n",
       "    <tr>\n",
       "      <th>...</th>\n",
       "      <td>...</td>\n",
       "      <td>...</td>\n",
       "      <td>...</td>\n",
       "      <td>...</td>\n",
       "    </tr>\n",
       "    <tr>\n",
       "      <th>3182</th>\n",
       "      <td>35z11126</td>\n",
       "      <td>breast cancer&lt;SEP&gt;death</td>\n",
       "      <td>True</td>\n",
       "      <td>death--&gt;breast cancer</td>\n",
       "    </tr>\n",
       "    <tr>\n",
       "      <th>3183</th>\n",
       "      <td>817f3rer</td>\n",
       "      <td>breast cancer&lt;SEP&gt;death</td>\n",
       "      <td>True</td>\n",
       "      <td>death--&gt;breast cancer</td>\n",
       "    </tr>\n",
       "    <tr>\n",
       "      <th>3184</th>\n",
       "      <td>oduk7qax</td>\n",
       "      <td>breast cancer&lt;SEP&gt;death</td>\n",
       "      <td>True</td>\n",
       "      <td>death--&gt;breast cancer</td>\n",
       "    </tr>\n",
       "    <tr>\n",
       "      <th>3185</th>\n",
       "      <td>398je5tr</td>\n",
       "      <td>breast cancer&lt;SEP&gt;death</td>\n",
       "      <td>True</td>\n",
       "      <td>death--&gt;breast cancer</td>\n",
       "    </tr>\n",
       "    <tr>\n",
       "      <th>3186</th>\n",
       "      <td>yhltrnlq</td>\n",
       "      <td>breast cancer&lt;SEP&gt;death</td>\n",
       "      <td>True</td>\n",
       "      <td>death--&gt;breast cancer</td>\n",
       "    </tr>\n",
       "  </tbody>\n",
       "</table>\n",
       "<p>3187 rows × 4 columns</p>\n",
       "</div>"
      ],
      "text/plain": [
       "      cord_uid                 relation original          meta_relation\n",
       "0     l0wc31to       BRCA1<SEP>patients     True    BRCA1-->paracetamol\n",
       "1     ikstn4yk       BRCA1<SEP>patients     True    BRCA1-->paracetamol\n",
       "2     bhsw2wv4       BRCA1<SEP>patients     True    BRCA1-->paracetamol\n",
       "3     57i1jaol       BRCA1<SEP>patients     True    BRCA1-->paracetamol\n",
       "4     0qewmjn1       BRCA1<SEP>patients     True    BRCA1-->paracetamol\n",
       "...        ...                      ...      ...                    ...\n",
       "3182  35z11126  breast cancer<SEP>death     True  death-->breast cancer\n",
       "3183  817f3rer  breast cancer<SEP>death     True  death-->breast cancer\n",
       "3184  oduk7qax  breast cancer<SEP>death     True  death-->breast cancer\n",
       "3185  398je5tr  breast cancer<SEP>death     True  death-->breast cancer\n",
       "3186  yhltrnlq  breast cancer<SEP>death     True  death-->breast cancer\n",
       "\n",
       "[3187 rows x 4 columns]"
      ]
     },
     "execution_count": 14,
     "metadata": {},
     "output_type": "execute_result"
    }
   ],
   "source": [
    "the_manager.gatherer.papers"
   ]
  },
  {
   "cell_type": "code",
   "execution_count": 15,
   "metadata": {},
   "outputs": [
    {
     "data": {
      "text/html": [
       "<div>\n",
       "<style scoped>\n",
       "    .dataframe tbody tr th:only-of-type {\n",
       "        vertical-align: middle;\n",
       "    }\n",
       "\n",
       "    .dataframe tbody tr th {\n",
       "        vertical-align: top;\n",
       "    }\n",
       "\n",
       "    .dataframe thead th {\n",
       "        text-align: right;\n",
       "    }\n",
       "</style>\n",
       "<table border=\"1\" class=\"dataframe\">\n",
       "  <thead>\n",
       "    <tr style=\"text-align: right;\">\n",
       "      <th></th>\n",
       "      <th>cord_uid</th>\n",
       "      <th>title</th>\n",
       "      <th>abstract</th>\n",
       "      <th>doi</th>\n",
       "      <th>authors</th>\n",
       "      <th>journal</th>\n",
       "      <th>publish_time</th>\n",
       "      <th>occurrences</th>\n",
       "      <th>explained_relations</th>\n",
       "    </tr>\n",
       "  </thead>\n",
       "  <tbody>\n",
       "    <tr>\n",
       "      <th>0</th>\n",
       "      <td>00rezmqj</td>\n",
       "      <td>Intra-arterial administration of a replication...</td>\n",
       "      <td>Both replication-incompetent and replication-s...</td>\n",
       "      <td>10.1038/sj.gt.3301512</td>\n",
       "      <td>Reid, T; Galanis, E; Abbruzzese, J; Sze, D; An...</td>\n",
       "      <td>Gene Ther</td>\n",
       "      <td>2001-11-22 00:00:00</td>\n",
       "      <td>1</td>\n",
       "      <td>['death&lt;SEP&gt;patient']</td>\n",
       "    </tr>\n",
       "    <tr>\n",
       "      <th>1</th>\n",
       "      <td>0nyy7vjo</td>\n",
       "      <td>Tuberculosis mortality: patient characteristic...</td>\n",
       "      <td>BACKGROUND: In the antibiotic era, tuberculosi...</td>\n",
       "      <td>10.1186/1471-2334-14-5</td>\n",
       "      <td>Lin, Chou-Han; Lin, Chou-Jui; Kuo, Yao-Wen; Wa...</td>\n",
       "      <td>BMC Infect Dis</td>\n",
       "      <td>2014-01-03 00:00:00</td>\n",
       "      <td>1</td>\n",
       "      <td>['death&lt;SEP&gt;patient']</td>\n",
       "    </tr>\n",
       "    <tr>\n",
       "      <th>2</th>\n",
       "      <td>18dxcn41</td>\n",
       "      <td>Demographic profile and outcome analysis of a ...</td>\n",
       "      <td>Objective : To study the profile and outcome o...</td>\n",
       "      <td>10.1007/bf02724117</td>\n",
       "      <td>Khilnani, Praveen; Sarma, Devajit; Singh, Reet...</td>\n",
       "      <td>Indian J Pediatr</td>\n",
       "      <td>2004-01-01 00:00:00</td>\n",
       "      <td>1</td>\n",
       "      <td>['death&lt;SEP&gt;patient']</td>\n",
       "    </tr>\n",
       "    <tr>\n",
       "      <th>3</th>\n",
       "      <td>1vimqhdp</td>\n",
       "      <td>36th International Symposium on Intensive Care...</td>\n",
       "      <td>P001 - Sepsis impairs the capillary response w...</td>\n",
       "      <td>10.1186/s13054-016-1208-6</td>\n",
       "      <td>Bateman, R. M.; Sharpe, M. D.; Jagger, J. E.; ...</td>\n",
       "      <td>Crit Care</td>\n",
       "      <td>2016-04-20 00:00:00</td>\n",
       "      <td>1</td>\n",
       "      <td>['death&lt;SEP&gt;patient']</td>\n",
       "    </tr>\n",
       "    <tr>\n",
       "      <th>4</th>\n",
       "      <td>271vldil</td>\n",
       "      <td>Understanding the clinical spectrum of complic...</td>\n",
       "      <td>The resurgence of the malaria eradication agen...</td>\n",
       "      <td>10.1186/1475-2875-11-12</td>\n",
       "      <td>Lacerda, Marcus VG; Mourão, Maria PG; Alexandr...</td>\n",
       "      <td>Malar J</td>\n",
       "      <td>2012-01-09 00:00:00</td>\n",
       "      <td>1</td>\n",
       "      <td>['death&lt;SEP&gt;patient']</td>\n",
       "    </tr>\n",
       "  </tbody>\n",
       "</table>\n",
       "</div>"
      ],
      "text/plain": [
       "   cord_uid                                              title  \\\n",
       "0  00rezmqj  Intra-arterial administration of a replication...   \n",
       "1  0nyy7vjo  Tuberculosis mortality: patient characteristic...   \n",
       "2  18dxcn41  Demographic profile and outcome analysis of a ...   \n",
       "3  1vimqhdp  36th International Symposium on Intensive Care...   \n",
       "4  271vldil  Understanding the clinical spectrum of complic...   \n",
       "\n",
       "                                            abstract  \\\n",
       "0  Both replication-incompetent and replication-s...   \n",
       "1  BACKGROUND: In the antibiotic era, tuberculosi...   \n",
       "2  Objective : To study the profile and outcome o...   \n",
       "3  P001 - Sepsis impairs the capillary response w...   \n",
       "4  The resurgence of the malaria eradication agen...   \n",
       "\n",
       "                         doi  \\\n",
       "0      10.1038/sj.gt.3301512   \n",
       "1     10.1186/1471-2334-14-5   \n",
       "2         10.1007/bf02724117   \n",
       "3  10.1186/s13054-016-1208-6   \n",
       "4    10.1186/1475-2875-11-12   \n",
       "\n",
       "                                             authors           journal  \\\n",
       "0  Reid, T; Galanis, E; Abbruzzese, J; Sze, D; An...         Gene Ther   \n",
       "1  Lin, Chou-Han; Lin, Chou-Jui; Kuo, Yao-Wen; Wa...    BMC Infect Dis   \n",
       "2  Khilnani, Praveen; Sarma, Devajit; Singh, Reet...  Indian J Pediatr   \n",
       "3  Bateman, R. M.; Sharpe, M. D.; Jagger, J. E.; ...         Crit Care   \n",
       "4  Lacerda, Marcus VG; Mourão, Maria PG; Alexandr...           Malar J   \n",
       "\n",
       "          publish_time occurrences    explained_relations  \n",
       "0  2001-11-22 00:00:00           1  ['death<SEP>patient']  \n",
       "1  2014-01-03 00:00:00           1  ['death<SEP>patient']  \n",
       "2  2004-01-01 00:00:00           1  ['death<SEP>patient']  \n",
       "3  2016-04-20 00:00:00           1  ['death<SEP>patient']  \n",
       "4  2012-01-09 00:00:00           1  ['death<SEP>patient']  "
      ]
     },
     "execution_count": 15,
     "metadata": {},
     "output_type": "execute_result"
    }
   ],
   "source": [
    "the_manager.gatherer.extracted_papers.head()"
   ]
  },
  {
   "cell_type": "code",
   "execution_count": 16,
   "metadata": {},
   "outputs": [
    {
     "data": {
      "text/html": [
       "<div>\n",
       "<style scoped>\n",
       "    .dataframe tbody tr th:only-of-type {\n",
       "        vertical-align: middle;\n",
       "    }\n",
       "\n",
       "    .dataframe tbody tr th {\n",
       "        vertical-align: top;\n",
       "    }\n",
       "\n",
       "    .dataframe thead th {\n",
       "        text-align: right;\n",
       "    }\n",
       "</style>\n",
       "<table border=\"1\" class=\"dataframe\">\n",
       "  <thead>\n",
       "    <tr style=\"text-align: right;\">\n",
       "      <th></th>\n",
       "      <th>cord_uid</th>\n",
       "      <th>title</th>\n",
       "      <th>abstract</th>\n",
       "      <th>doi</th>\n",
       "      <th>authors</th>\n",
       "      <th>journal</th>\n",
       "      <th>publish_time</th>\n",
       "      <th>occurrences</th>\n",
       "      <th>explained_relations</th>\n",
       "    </tr>\n",
       "  </thead>\n",
       "  <tbody>\n",
       "    <tr>\n",
       "      <th>18</th>\n",
       "      <td>fl14to1o</td>\n",
       "      <td>Faut-il contrôler la fièvre dans les infection...</td>\n",
       "      <td>Temperature control during severe sepsis is cu...</td>\n",
       "      <td>10.1007/s13546-015-1168-x</td>\n",
       "      <td>Seguin, P.; Launey, Y.; Nesseler, N.; Malledan...</td>\n",
       "      <td>Reanimation</td>\n",
       "      <td>2016-03-11 00:00:00</td>\n",
       "      <td>2</td>\n",
       "      <td>['paracetamol&lt;SEP&gt;patients', 'paracetamol&lt;SEP&gt;...</td>\n",
       "    </tr>\n",
       "  </tbody>\n",
       "</table>\n",
       "</div>"
      ],
      "text/plain": [
       "    cord_uid                                              title  \\\n",
       "18  fl14to1o  Faut-il contrôler la fièvre dans les infection...   \n",
       "\n",
       "                                             abstract  \\\n",
       "18  Temperature control during severe sepsis is cu...   \n",
       "\n",
       "                          doi  \\\n",
       "18  10.1007/s13546-015-1168-x   \n",
       "\n",
       "                                              authors      journal  \\\n",
       "18  Seguin, P.; Launey, Y.; Nesseler, N.; Malledan...  Reanimation   \n",
       "\n",
       "           publish_time occurrences  \\\n",
       "18  2016-03-11 00:00:00           2   \n",
       "\n",
       "                                  explained_relations  \n",
       "18  ['paracetamol<SEP>patients', 'paracetamol<SEP>...  "
      ]
     },
     "execution_count": 16,
     "metadata": {},
     "output_type": "execute_result"
    }
   ],
   "source": [
    "the_manager.gatherer.get_papers_by_meta_relation('BRCA1-->paracetamol')"
   ]
  },
  {
   "cell_type": "markdown",
   "metadata": {},
   "source": [
    "## Querying with Graphical Abstract"
   ]
  },
  {
   "cell_type": "code",
   "execution_count": 8,
   "metadata": {},
   "outputs": [],
   "source": [
    "the_manager = Manager(metadata, paper_cache, graph_db)"
   ]
  },
  {
   "cell_type": "code",
   "execution_count": 35,
   "metadata": {},
   "outputs": [],
   "source": [
    "from agave.model.query import GraphicalAbstract\n",
    "import networkx as nx\n",
    "import pandas as pd\n",
    "pd.set_option('display.max_colwidth', None)"
   ]
  },
  {
   "cell_type": "code",
   "execution_count": 10,
   "metadata": {},
   "outputs": [],
   "source": [
    "g = GraphicalAbstract()"
   ]
  },
  {
   "cell_type": "code",
   "execution_count": 11,
   "metadata": {},
   "outputs": [],
   "source": [
    "chain = ['BRCA1','paracetamol','death','breast cancer']"
   ]
  },
  {
   "cell_type": "code",
   "execution_count": 12,
   "metadata": {},
   "outputs": [],
   "source": [
    "g.add_chain(chain)"
   ]
  },
  {
   "cell_type": "code",
   "execution_count": 20,
   "metadata": {},
   "outputs": [],
   "source": [
    "chain2 = ['BRCA1','fever','death']\n",
    "g.add_chain(chain2)"
   ]
  },
  {
   "cell_type": "code",
   "execution_count": 40,
   "metadata": {},
   "outputs": [
    {
     "name": "stdout",
     "output_type": "stream",
     "text": [
      "0    ['death<SEP>patient', 'fever<SEP>patients', 'death<SEP>fever']\n",
      "Name: explained_relations, dtype: object\n"
     ]
    }
   ],
   "source": [
    "print(the_manager.gatherer.get_paper_by_doi('10.1038/sj.gt.3301512').explained_relations)"
   ]
  },
  {
   "cell_type": "code",
   "execution_count": 21,
   "metadata": {},
   "outputs": [
    {
     "data": {
      "image/png": "[encoded data removed]",
      "text/plain": [
       "<Figure size 432x288 with 1 Axes>"
      ]
     },
     "metadata": {},
     "output_type": "display_data"
    }
   ],
   "source": [
    "nx.draw_networkx(g.graph)"
   ]
  },
  {
   "cell_type": "code",
   "execution_count": 22,
   "metadata": {},
   "outputs": [],
   "source": [
    "the_manager.find_graphical_abstract(g)"
   ]
  },
  {
   "cell_type": "code",
   "execution_count": 23,
   "metadata": {},
   "outputs": [
    {
     "name": "stdout",
     "output_type": "stream",
     "text": [
      "BRCA1-->fever\n",
      "0 ['BRCA1<SEP>patients', 'fever<SEP>patients'] \t\t\t 2832.5\n",
      "1 ['BRCA1<SEP>cancer', 'cancer<SEP>fever'] \t\t\t 125.0\n",
      "2 ['BRCA1<SEP>genetic', 'fever<SEP>genetic'] \t\t\t 80.0\n",
      "3 ['BRCA1<SEP>genes', 'fever<SEP>genes'] \t\t\t 48.0\n",
      "4 ['BRCA1<SEP>breast cancer', 'breast cancer<SEP>fever'] \t\t\t 20.0\n",
      "-------------------------\n",
      "fever-->death\n",
      "0 ['death<SEP>fever'] \t\t\t 854.0\n",
      "-------------------------\n"
     ]
    }
   ],
   "source": [
    "the_manager.show_single_chain_result()"
   ]
  },
  {
   "cell_type": "code",
   "execution_count": 24,
   "metadata": {},
   "outputs": [
    {
     "name": "stdout",
     "output_type": "stream",
     "text": [
      "BRCA1-->fever\n",
      "0 ['BRCA1<SEP>patients', 'fever<SEP>patients']\n",
      "BRCA1-->fever\n",
      "0 ['death<SEP>fever']\n"
     ]
    }
   ],
   "source": [
    "the_manager.select_path_single_chain([0,0])"
   ]
  },
  {
   "cell_type": "code",
   "execution_count": 25,
   "metadata": {},
   "outputs": [],
   "source": [
    "the_manager._gather_papers()"
   ]
  },
  {
   "cell_type": "code",
   "execution_count": 28,
   "metadata": {},
   "outputs": [
    {
     "data": {
      "text/html": [
       "<div>\n",
       "<style scoped>\n",
       "    .dataframe tbody tr th:only-of-type {\n",
       "        vertical-align: middle;\n",
       "    }\n",
       "\n",
       "    .dataframe tbody tr th {\n",
       "        vertical-align: top;\n",
       "    }\n",
       "\n",
       "    .dataframe thead th {\n",
       "        text-align: right;\n",
       "    }\n",
       "</style>\n",
       "<table border=\"1\" class=\"dataframe\">\n",
       "  <thead>\n",
       "    <tr style=\"text-align: right;\">\n",
       "      <th></th>\n",
       "      <th>cord_uid</th>\n",
       "      <th>title</th>\n",
       "      <th>abstract</th>\n",
       "      <th>doi</th>\n",
       "      <th>authors</th>\n",
       "      <th>journal</th>\n",
       "      <th>publish_time</th>\n",
       "      <th>occurrences</th>\n",
       "      <th>explained_relations</th>\n",
       "    </tr>\n",
       "  </thead>\n",
       "  <tbody>\n",
       "    <tr>\n",
       "      <th>0</th>\n",
       "      <td>00rezmqj</td>\n",
       "      <td>Intra-arterial administration of a replication...</td>\n",
       "      <td>Both replication-incompetent and replication-s...</td>\n",
       "      <td>10.1038/sj.gt.3301512</td>\n",
       "      <td>Reid, T; Galanis, E; Abbruzzese, J; Sze, D; An...</td>\n",
       "      <td>Gene Ther</td>\n",
       "      <td>2001-11-22 00:00:00</td>\n",
       "      <td>3</td>\n",
       "      <td>['death&lt;SEP&gt;patient', 'fever&lt;SEP&gt;patients', 'd...</td>\n",
       "    </tr>\n",
       "    <tr>\n",
       "      <th>1</th>\n",
       "      <td>03kqeed3</td>\n",
       "      <td>Clinical features of the 2009 swine-origin inf...</td>\n",
       "      <td>To clarify the clinical symptoms of the influe...</td>\n",
       "      <td>10.1007/s10156-010-0187-9</td>\n",
       "      <td>Takayama, Koji; Kuramochi, Jin; Oinuma, Takesh...</td>\n",
       "      <td>J Infect Chemother</td>\n",
       "      <td>2010-12-21 00:00:00</td>\n",
       "      <td>1</td>\n",
       "      <td>['fever&lt;SEP&gt;patients']</td>\n",
       "    </tr>\n",
       "    <tr>\n",
       "      <th>2</th>\n",
       "      <td>09glfcww</td>\n",
       "      <td>Multiple organ failure and coma as initial pre...</td>\n",
       "      <td>The unusual case of a 65-year-old woman with i...</td>\n",
       "      <td>10.1007/bf01694777</td>\n",
       "      <td>Lorz, W.; Cottier, Chr; Imhof, E.; Gyr, N.</td>\n",
       "      <td>Intensive Care Med</td>\n",
       "      <td>1993-01-01 00:00:00</td>\n",
       "      <td>1</td>\n",
       "      <td>['fever&lt;SEP&gt;patients']</td>\n",
       "    </tr>\n",
       "    <tr>\n",
       "      <th>3</th>\n",
       "      <td>0h2wvv40</td>\n",
       "      <td>Vancomycin-resistant Enterococcus faecium pneu...</td>\n",
       "      <td>BACKGROUND: Even though enterococci can cause ...</td>\n",
       "      <td>10.1186/s12879-020-4892-4</td>\n",
       "      <td>Li, Fengqin; Wang, Yonglan; Sun, Linlin; Wang,...</td>\n",
       "      <td>BMC Infect Dis</td>\n",
       "      <td>2020-02-22 00:00:00</td>\n",
       "      <td>1</td>\n",
       "      <td>['fever&lt;SEP&gt;patients']</td>\n",
       "    </tr>\n",
       "    <tr>\n",
       "      <th>4</th>\n",
       "      <td>0nyy7vjo</td>\n",
       "      <td>Tuberculosis mortality: patient characteristic...</td>\n",
       "      <td>BACKGROUND: In the antibiotic era, tuberculosi...</td>\n",
       "      <td>10.1186/1471-2334-14-5</td>\n",
       "      <td>Lin, Chou-Han; Lin, Chou-Jui; Kuo, Yao-Wen; Wa...</td>\n",
       "      <td>BMC Infect Dis</td>\n",
       "      <td>2014-01-03 00:00:00</td>\n",
       "      <td>1</td>\n",
       "      <td>['death&lt;SEP&gt;patient']</td>\n",
       "    </tr>\n",
       "  </tbody>\n",
       "</table>\n",
       "</div>"
      ],
      "text/plain": [
       "   cord_uid                                              title  \\\n",
       "0  00rezmqj  Intra-arterial administration of a replication...   \n",
       "1  03kqeed3  Clinical features of the 2009 swine-origin inf...   \n",
       "2  09glfcww  Multiple organ failure and coma as initial pre...   \n",
       "3  0h2wvv40  Vancomycin-resistant Enterococcus faecium pneu...   \n",
       "4  0nyy7vjo  Tuberculosis mortality: patient characteristic...   \n",
       "\n",
       "                                            abstract  \\\n",
       "0  Both replication-incompetent and replication-s...   \n",
       "1  To clarify the clinical symptoms of the influe...   \n",
       "2  The unusual case of a 65-year-old woman with i...   \n",
       "3  BACKGROUND: Even though enterococci can cause ...   \n",
       "4  BACKGROUND: In the antibiotic era, tuberculosi...   \n",
       "\n",
       "                         doi  \\\n",
       "0      10.1038/sj.gt.3301512   \n",
       "1  10.1007/s10156-010-0187-9   \n",
       "2         10.1007/bf01694777   \n",
       "3  10.1186/s12879-020-4892-4   \n",
       "4     10.1186/1471-2334-14-5   \n",
       "\n",
       "                                             authors             journal  \\\n",
       "0  Reid, T; Galanis, E; Abbruzzese, J; Sze, D; An...           Gene Ther   \n",
       "1  Takayama, Koji; Kuramochi, Jin; Oinuma, Takesh...  J Infect Chemother   \n",
       "2         Lorz, W.; Cottier, Chr; Imhof, E.; Gyr, N.  Intensive Care Med   \n",
       "3  Li, Fengqin; Wang, Yonglan; Sun, Linlin; Wang,...      BMC Infect Dis   \n",
       "4  Lin, Chou-Han; Lin, Chou-Jui; Kuo, Yao-Wen; Wa...      BMC Infect Dis   \n",
       "\n",
       "          publish_time occurrences  \\\n",
       "0  2001-11-22 00:00:00           3   \n",
       "1  2010-12-21 00:00:00           1   \n",
       "2  1993-01-01 00:00:00           1   \n",
       "3  2020-02-22 00:00:00           1   \n",
       "4  2014-01-03 00:00:00           1   \n",
       "\n",
       "                                 explained_relations  \n",
       "0  ['death<SEP>patient', 'fever<SEP>patients', 'd...  \n",
       "1                             ['fever<SEP>patients']  \n",
       "2                             ['fever<SEP>patients']  \n",
       "3                             ['fever<SEP>patients']  \n",
       "4                              ['death<SEP>patient']  "
      ]
     },
     "execution_count": 28,
     "metadata": {},
     "output_type": "execute_result"
    }
   ],
   "source": [
    "the_manager.gatherer.extracted_papers.head()"
   ]
  },
  {
   "cell_type": "code",
   "execution_count": 39,
   "metadata": {},
   "outputs": [
    {
     "name": "stdout",
     "output_type": "stream",
     "text": [
      "0    ['death<SEP>patient', 'fever<SEP>patients', 'death<SEP>fever']\n",
      "Name: explained_relations, dtype: object\n"
     ]
    }
   ],
   "source": [
    "print(the_manager.gatherer.get_paper_by_doi('10.1038/sj.gt.3301512').explained_relations)"
   ]
  },
  {
   "cell_type": "code",
   "execution_count": 27,
   "metadata": {},
   "outputs": [
    {
     "data": {
      "text/html": [
       "<div>\n",
       "<style scoped>\n",
       "    .dataframe tbody tr th:only-of-type {\n",
       "        vertical-align: middle;\n",
       "    }\n",
       "\n",
       "    .dataframe tbody tr th {\n",
       "        vertical-align: top;\n",
       "    }\n",
       "\n",
       "    .dataframe thead th {\n",
       "        text-align: right;\n",
       "    }\n",
       "</style>\n",
       "<table border=\"1\" class=\"dataframe\">\n",
       "  <thead>\n",
       "    <tr style=\"text-align: right;\">\n",
       "      <th></th>\n",
       "      <th>cord_uid</th>\n",
       "      <th>title</th>\n",
       "      <th>abstract</th>\n",
       "      <th>doi</th>\n",
       "      <th>authors</th>\n",
       "      <th>journal</th>\n",
       "      <th>publish_time</th>\n",
       "      <th>occurrences</th>\n",
       "      <th>explained_relations</th>\n",
       "    </tr>\n",
       "  </thead>\n",
       "  <tbody>\n",
       "    <tr>\n",
       "      <th>0</th>\n",
       "      <td>00rezmqj</td>\n",
       "      <td>Intra-arterial administration of a replication...</td>\n",
       "      <td>Both replication-incompetent and replication-s...</td>\n",
       "      <td>10.1038/sj.gt.3301512</td>\n",
       "      <td>Reid, T; Galanis, E; Abbruzzese, J; Sze, D; An...</td>\n",
       "      <td>Gene Ther</td>\n",
       "      <td>2001-11-22 00:00:00</td>\n",
       "      <td>3</td>\n",
       "      <td>['death&lt;SEP&gt;patient', 'fever&lt;SEP&gt;patients', 'd...</td>\n",
       "    </tr>\n",
       "    <tr>\n",
       "      <th>1</th>\n",
       "      <td>03kqeed3</td>\n",
       "      <td>Clinical features of the 2009 swine-origin inf...</td>\n",
       "      <td>To clarify the clinical symptoms of the influe...</td>\n",
       "      <td>10.1007/s10156-010-0187-9</td>\n",
       "      <td>Takayama, Koji; Kuramochi, Jin; Oinuma, Takesh...</td>\n",
       "      <td>J Infect Chemother</td>\n",
       "      <td>2010-12-21 00:00:00</td>\n",
       "      <td>1</td>\n",
       "      <td>['fever&lt;SEP&gt;patients']</td>\n",
       "    </tr>\n",
       "    <tr>\n",
       "      <th>2</th>\n",
       "      <td>09glfcww</td>\n",
       "      <td>Multiple organ failure and coma as initial pre...</td>\n",
       "      <td>The unusual case of a 65-year-old woman with i...</td>\n",
       "      <td>10.1007/bf01694777</td>\n",
       "      <td>Lorz, W.; Cottier, Chr; Imhof, E.; Gyr, N.</td>\n",
       "      <td>Intensive Care Med</td>\n",
       "      <td>1993-01-01 00:00:00</td>\n",
       "      <td>1</td>\n",
       "      <td>['fever&lt;SEP&gt;patients']</td>\n",
       "    </tr>\n",
       "    <tr>\n",
       "      <th>3</th>\n",
       "      <td>0h2wvv40</td>\n",
       "      <td>Vancomycin-resistant Enterococcus faecium pneu...</td>\n",
       "      <td>BACKGROUND: Even though enterococci can cause ...</td>\n",
       "      <td>10.1186/s12879-020-4892-4</td>\n",
       "      <td>Li, Fengqin; Wang, Yonglan; Sun, Linlin; Wang,...</td>\n",
       "      <td>BMC Infect Dis</td>\n",
       "      <td>2020-02-22 00:00:00</td>\n",
       "      <td>1</td>\n",
       "      <td>['fever&lt;SEP&gt;patients']</td>\n",
       "    </tr>\n",
       "    <tr>\n",
       "      <th>6</th>\n",
       "      <td>1br7nhzt</td>\n",
       "      <td>A Combined Syndromic Approach to Examine Viral...</td>\n",
       "      <td>The use of fever syndromic surveillance in sub...</td>\n",
       "      <td>10.4269/ajtmh.17-0421</td>\n",
       "      <td>Hercik, Christine; Cosmas, Leonard; Mogeni, On...</td>\n",
       "      <td>Am J Trop Med Hyg</td>\n",
       "      <td>2017-12-26 00:00:00</td>\n",
       "      <td>1</td>\n",
       "      <td>['fever&lt;SEP&gt;patients']</td>\n",
       "    </tr>\n",
       "    <tr>\n",
       "      <th>...</th>\n",
       "      <td>...</td>\n",
       "      <td>...</td>\n",
       "      <td>...</td>\n",
       "      <td>...</td>\n",
       "      <td>...</td>\n",
       "      <td>...</td>\n",
       "      <td>...</td>\n",
       "      <td>...</td>\n",
       "      <td>...</td>\n",
       "    </tr>\n",
       "    <tr>\n",
       "      <th>113</th>\n",
       "      <td>z51l0fiq</td>\n",
       "      <td>Clinical characteristics of liver failure with...</td>\n",
       "      <td>Liver failure with hemophagocytic lymphohistio...</td>\n",
       "      <td>10.1038/s41598-019-43909-w</td>\n",
       "      <td>Dong, Jinling; Xie, Fang; Jia, Lin; Li, Juan; ...</td>\n",
       "      <td>Sci Rep</td>\n",
       "      <td>2019-05-31 00:00:00</td>\n",
       "      <td>1</td>\n",
       "      <td>['fever&lt;SEP&gt;patients']</td>\n",
       "    </tr>\n",
       "    <tr>\n",
       "      <th>114</th>\n",
       "      <td>z8n220wv</td>\n",
       "      <td>G-CSF mobilised granulocyte transfusions in 32...</td>\n",
       "      <td>INTRODUCTION: In this retrospective, uncontrol...</td>\n",
       "      <td>10.1007/s00520-006-0041-x</td>\n",
       "      <td>Grigull, Lorenz; Pulver, Nicole; Goudeva, Lili...</td>\n",
       "      <td>Support Care Cancer</td>\n",
       "      <td>2006-04-19 00:00:00</td>\n",
       "      <td>1</td>\n",
       "      <td>['fever&lt;SEP&gt;patients']</td>\n",
       "    </tr>\n",
       "    <tr>\n",
       "      <th>115</th>\n",
       "      <td>z9kk5xd4</td>\n",
       "      <td>Prevalence and associated factors of pediatric...</td>\n",
       "      <td>BACKGROUND: Childhood mortality remains high i...</td>\n",
       "      <td>10.1186/s12887-018-1287-4</td>\n",
       "      <td>Jofiro, Gemechu; Jemal, Kemal; Beza, Lemlem; B...</td>\n",
       "      <td>BMC Pediatr</td>\n",
       "      <td>2018-10-02 00:00:00</td>\n",
       "      <td>2</td>\n",
       "      <td>['fever&lt;SEP&gt;patients', 'death&lt;SEP&gt;fever']</td>\n",
       "    </tr>\n",
       "    <tr>\n",
       "      <th>116</th>\n",
       "      <td>zfz98etw</td>\n",
       "      <td>Prevalence and Correlation of Infectious Agent...</td>\n",
       "      <td>Acute respiratory tract infections (ARTIs) are...</td>\n",
       "      <td>10.1371/journal.pone.0119170</td>\n",
       "      <td>Liu, Jia; Ai, Hongwu; Xiong, Ying; Li, Fu; Wen...</td>\n",
       "      <td>PLoS One</td>\n",
       "      <td>2015-03-09 00:00:00</td>\n",
       "      <td>1</td>\n",
       "      <td>['fever&lt;SEP&gt;patients']</td>\n",
       "    </tr>\n",
       "    <tr>\n",
       "      <th>118</th>\n",
       "      <td>znkj2zzm</td>\n",
       "      <td>Malaria und andere notfallmedizinische relevan...</td>\n",
       "      <td>BACKGROUND: For people returning from the trop...</td>\n",
       "      <td>10.1007/s10049-016-0176-3</td>\n",
       "      <td>Hemmer, C. J.; Loebermann, M.; Reisinger, E. C.</td>\n",
       "      <td>Notf Rett Med</td>\n",
       "      <td>2016-05-23 00:00:00</td>\n",
       "      <td>1</td>\n",
       "      <td>['fever&lt;SEP&gt;patients']</td>\n",
       "    </tr>\n",
       "  </tbody>\n",
       "</table>\n",
       "<p>85 rows × 9 columns</p>\n",
       "</div>"
      ],
      "text/plain": [
       "     cord_uid                                              title  \\\n",
       "0    00rezmqj  Intra-arterial administration of a replication...   \n",
       "1    03kqeed3  Clinical features of the 2009 swine-origin inf...   \n",
       "2    09glfcww  Multiple organ failure and coma as initial pre...   \n",
       "3    0h2wvv40  Vancomycin-resistant Enterococcus faecium pneu...   \n",
       "6    1br7nhzt  A Combined Syndromic Approach to Examine Viral...   \n",
       "..        ...                                                ...   \n",
       "113  z51l0fiq  Clinical characteristics of liver failure with...   \n",
       "114  z8n220wv  G-CSF mobilised granulocyte transfusions in 32...   \n",
       "115  z9kk5xd4  Prevalence and associated factors of pediatric...   \n",
       "116  zfz98etw  Prevalence and Correlation of Infectious Agent...   \n",
       "118  znkj2zzm  Malaria und andere notfallmedizinische relevan...   \n",
       "\n",
       "                                              abstract  \\\n",
       "0    Both replication-incompetent and replication-s...   \n",
       "1    To clarify the clinical symptoms of the influe...   \n",
       "2    The unusual case of a 65-year-old woman with i...   \n",
       "3    BACKGROUND: Even though enterococci can cause ...   \n",
       "6    The use of fever syndromic surveillance in sub...   \n",
       "..                                                 ...   \n",
       "113  Liver failure with hemophagocytic lymphohistio...   \n",
       "114  INTRODUCTION: In this retrospective, uncontrol...   \n",
       "115  BACKGROUND: Childhood mortality remains high i...   \n",
       "116  Acute respiratory tract infections (ARTIs) are...   \n",
       "118  BACKGROUND: For people returning from the trop...   \n",
       "\n",
       "                              doi  \\\n",
       "0           10.1038/sj.gt.3301512   \n",
       "1       10.1007/s10156-010-0187-9   \n",
       "2              10.1007/bf01694777   \n",
       "3       10.1186/s12879-020-4892-4   \n",
       "6           10.4269/ajtmh.17-0421   \n",
       "..                            ...   \n",
       "113    10.1038/s41598-019-43909-w   \n",
       "114     10.1007/s00520-006-0041-x   \n",
       "115     10.1186/s12887-018-1287-4   \n",
       "116  10.1371/journal.pone.0119170   \n",
       "118     10.1007/s10049-016-0176-3   \n",
       "\n",
       "                                               authors              journal  \\\n",
       "0    Reid, T; Galanis, E; Abbruzzese, J; Sze, D; An...            Gene Ther   \n",
       "1    Takayama, Koji; Kuramochi, Jin; Oinuma, Takesh...   J Infect Chemother   \n",
       "2           Lorz, W.; Cottier, Chr; Imhof, E.; Gyr, N.   Intensive Care Med   \n",
       "3    Li, Fengqin; Wang, Yonglan; Sun, Linlin; Wang,...       BMC Infect Dis   \n",
       "6    Hercik, Christine; Cosmas, Leonard; Mogeni, On...    Am J Trop Med Hyg   \n",
       "..                                                 ...                  ...   \n",
       "113  Dong, Jinling; Xie, Fang; Jia, Lin; Li, Juan; ...              Sci Rep   \n",
       "114  Grigull, Lorenz; Pulver, Nicole; Goudeva, Lili...  Support Care Cancer   \n",
       "115  Jofiro, Gemechu; Jemal, Kemal; Beza, Lemlem; B...          BMC Pediatr   \n",
       "116  Liu, Jia; Ai, Hongwu; Xiong, Ying; Li, Fu; Wen...             PLoS One   \n",
       "118    Hemmer, C. J.; Loebermann, M.; Reisinger, E. C.        Notf Rett Med   \n",
       "\n",
       "            publish_time occurrences  \\\n",
       "0    2001-11-22 00:00:00           3   \n",
       "1    2010-12-21 00:00:00           1   \n",
       "2    1993-01-01 00:00:00           1   \n",
       "3    2020-02-22 00:00:00           1   \n",
       "6    2017-12-26 00:00:00           1   \n",
       "..                   ...         ...   \n",
       "113  2019-05-31 00:00:00           1   \n",
       "114  2006-04-19 00:00:00           1   \n",
       "115  2018-10-02 00:00:00           2   \n",
       "116  2015-03-09 00:00:00           1   \n",
       "118  2016-05-23 00:00:00           1   \n",
       "\n",
       "                                   explained_relations  \n",
       "0    ['death<SEP>patient', 'fever<SEP>patients', 'd...  \n",
       "1                               ['fever<SEP>patients']  \n",
       "2                               ['fever<SEP>patients']  \n",
       "3                               ['fever<SEP>patients']  \n",
       "6                               ['fever<SEP>patients']  \n",
       "..                                                 ...  \n",
       "113                             ['fever<SEP>patients']  \n",
       "114                             ['fever<SEP>patients']  \n",
       "115          ['fever<SEP>patients', 'death<SEP>fever']  \n",
       "116                             ['fever<SEP>patients']  \n",
       "118                             ['fever<SEP>patients']  \n",
       "\n",
       "[85 rows x 9 columns]"
      ]
     },
     "execution_count": 27,
     "metadata": {},
     "output_type": "execute_result"
    }
   ],
   "source": [
    "the_manager.gatherer.get_papers_by_meta_relation('BRCA1-->fever')"
   ]
  }
 ],
 "metadata": {
  "interpreter": {
   "hash": "caa5824f7b33868d778b51c16e90bc7bd4be91aba3493046d2b42331ca349796"
  },
  "kernelspec": {
   "display_name": "Python 3.10.4 ('.venv': venv)",
   "language": "python",
   "name": "python3"
  },
  "language_info": {
   "codemirror_mode": {
    "name": "ipython",
    "version": 3
   },
   "file_extension": ".py",
   "mimetype": "text/x-python",
   "name": "python",
   "nbconvert_exporter": "python",
   "pygments_lexer": "ipython3",
   "version": "3.10.4"
  },
  "orig_nbformat": 4
 },
 "nbformat": 4,
 "nbformat_minor": 2
}
