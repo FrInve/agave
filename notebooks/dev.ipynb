{
 "cells": [
  {
   "cell_type": "markdown",
   "metadata": {},
   "source": [
    "# AGAVE\n",
    "A Graphical Abstract Verification Engine"
   ]
  },
  {
   "cell_type": "code",
   "execution_count": 1,
   "metadata": {},
   "outputs": [],
   "source": [
    "%load_ext autoreload\n",
    "%autoreload 2"
   ]
  },
  {
   "cell_type": "markdown",
   "metadata": {},
   "source": [
    "## Setup"
   ]
  },
  {
   "cell_type": "code",
   "execution_count": 2,
   "metadata": {},
   "outputs": [],
   "source": [
    "from agave.engine.data_access_layer import CooccurrencyGraph, PaperCache, Metadata"
   ]
  },
  {
   "cell_type": "code",
   "execution_count": 57,
   "metadata": {},
   "outputs": [],
   "source": [
    "from agave.engine.query_manager import MichaelScott"
   ]
  },
  {
   "cell_type": "code",
   "execution_count": 3,
   "metadata": {},
   "outputs": [],
   "source": [
    "graph_db_uri = 'neo4j+s://91bd4f79.databases.neo4j.io'\n",
    "graph_db_user = 'neo4j'\n",
    "graph_db_password = 'syc9_tjj2ECTW03hPNtfSN4j6G6Q6lKUUp7YkYP3ALc'\n",
    "graph_db = CooccurrencyGraph(graph_db_uri, graph_db_user, graph_db_password)"
   ]
  },
  {
   "cell_type": "code",
   "execution_count": 4,
   "metadata": {},
   "outputs": [
    {
     "name": "stdout",
     "output_type": "stream",
     "text": [
      "Connection established\n"
     ]
    }
   ],
   "source": [
    "graph_db.test_connection()"
   ]
  },
  {
   "cell_type": "code",
   "execution_count": 5,
   "metadata": {},
   "outputs": [],
   "source": [
    "paper_cache = PaperCache('~/Documents/tesi_local/agave-0/entity_paper.db', '~/Documents/tesi_local/agave-0/bigram_paper.db')"
   ]
  },
  {
   "cell_type": "code",
   "execution_count": 6,
   "metadata": {},
   "outputs": [],
   "source": [
    "metadata = Metadata('~/Code/CovEffect-data-provision/products/raw/metadata.csv', sample=True)"
   ]
  },
  {
   "cell_type": "markdown",
   "metadata": {},
   "source": [
    "## Querying"
   ]
  },
  {
   "cell_type": "markdown",
   "metadata": {},
   "source": [
    "- Ho una chain di entities\n",
    "- paths per ogni coppia di entities\n",
    "- Per ogni coppia:\n",
    "    - scelgo un path, prendo i papers\n",
    "    - metto i papers nel gatherer, mi segno le relazioni, mi segno se contengono quelle della query\n",
    "- Ordino i paper:\n",
    "    - Prima quelli che spiegano più della catena originale\n",
    "    - Secondi quelli che spiegano tanti nodi comunque\n",
    "    - Gli altri per data e qualità\n",
    "    "
   ]
  },
  {
   "cell_type": "code",
   "execution_count": 58,
   "metadata": {},
   "outputs": [],
   "source": [
    "the_manager = MichaelScott(metadata, paper_cache, graph_db)"
   ]
  },
  {
   "cell_type": "code",
   "execution_count": 66,
   "metadata": {},
   "outputs": [],
   "source": [
    "chain = ['BRCA1','paracetamol','death','breast cancer']\n",
    "the_manager.find_single_chain(chain)"
   ]
  },
  {
   "cell_type": "code",
   "execution_count": 67,
   "metadata": {},
   "outputs": [
    {
     "name": "stdout",
     "output_type": "stream",
     "text": [
      "BRCA1-->paracetamol\n",
      "0 ['BRCA1<SEP>patients', 'paracetamol<SEP>patients'] \t\t\t 51.5\n",
      "-------------------------\n",
      "paracetamol-->death\n",
      "0 ['paracetamol<SEP>patients', 'death<SEP>patients'] \t\t\t 5416.0\n",
      "1 ['COVID-19<SEP>paracetamol', 'COVID-19<SEP>death'] \t\t\t 5141.0\n",
      "2 ['paracetamol<SEP>patient', 'death<SEP>patient'] \t\t\t 1493.0\n",
      "3 ['drug<SEP>paracetamol', 'death<SEP>drug'] \t\t\t 479.5\n",
      "4 ['children<SEP>paracetamol', 'children<SEP>death'] \t\t\t 463.0\n",
      "5 ['fever<SEP>paracetamol', 'death<SEP>fever'] \t\t\t 445.5\n",
      "6 ['pain<SEP>paracetamol', 'death<SEP>pain'] \t\t\t 108.0\n",
      "-------------------------\n",
      "death-->breast cancer\n",
      "0 ['breast cancer<SEP>death'] \t\t\t 103.0\n",
      "-------------------------\n"
     ]
    }
   ],
   "source": [
    "the_manager.show_single_chain_result()"
   ]
  },
  {
   "cell_type": "code",
   "execution_count": 80,
   "metadata": {},
   "outputs": [
    {
     "name": "stdout",
     "output_type": "stream",
     "text": [
      "BRCA1-->paracetamol\n",
      "0 ['BRCA1<SEP>patients', 'paracetamol<SEP>patients']\n",
      "death-->breast cancer\n",
      "2 ['paracetamol<SEP>patient', 'death<SEP>patient']\n",
      "BRCA1-->paracetamol\n",
      "0 ['breast cancer<SEP>death']\n"
     ]
    }
   ],
   "source": [
    "the_manager.select_path_single_chain([0,2,0])"
   ]
  },
  {
   "cell_type": "code",
   "execution_count": 81,
   "metadata": {},
   "outputs": [
    {
     "data": {
      "text/plain": [
       "[['BRCA1<SEP>patients', 'paracetamol<SEP>patients'],\n",
       " ['paracetamol<SEP>patient', 'death<SEP>patient'],\n",
       " ['breast cancer<SEP>death']]"
      ]
     },
     "execution_count": 81,
     "metadata": {},
     "output_type": "execute_result"
    }
   ],
   "source": [
    "the_manager.stoner.get_selected_path_relations()"
   ]
  },
  {
   "cell_type": "code",
   "execution_count": 90,
   "metadata": {},
   "outputs": [],
   "source": [
    "the_manager.gather_papers()"
   ]
  },
  {
   "cell_type": "code",
   "execution_count": 91,
   "metadata": {},
   "outputs": [
    {
     "data": {
      "text/html": [
       "<div>\n",
       "<style scoped>\n",
       "    .dataframe tbody tr th:only-of-type {\n",
       "        vertical-align: middle;\n",
       "    }\n",
       "\n",
       "    .dataframe tbody tr th {\n",
       "        vertical-align: top;\n",
       "    }\n",
       "\n",
       "    .dataframe thead th {\n",
       "        text-align: right;\n",
       "    }\n",
       "</style>\n",
       "<table border=\"1\" class=\"dataframe\">\n",
       "  <thead>\n",
       "    <tr style=\"text-align: right;\">\n",
       "      <th></th>\n",
       "      <th>cord_uid</th>\n",
       "      <th>relation</th>\n",
       "      <th>original</th>\n",
       "    </tr>\n",
       "  </thead>\n",
       "  <tbody>\n",
       "    <tr>\n",
       "      <th>0</th>\n",
       "      <td>l0wc31to</td>\n",
       "      <td>BRCA1&lt;SEP&gt;patients</td>\n",
       "      <td>True</td>\n",
       "    </tr>\n",
       "    <tr>\n",
       "      <th>1</th>\n",
       "      <td>ikstn4yk</td>\n",
       "      <td>BRCA1&lt;SEP&gt;patients</td>\n",
       "      <td>True</td>\n",
       "    </tr>\n",
       "    <tr>\n",
       "      <th>2</th>\n",
       "      <td>bhsw2wv4</td>\n",
       "      <td>BRCA1&lt;SEP&gt;patients</td>\n",
       "      <td>True</td>\n",
       "    </tr>\n",
       "    <tr>\n",
       "      <th>3</th>\n",
       "      <td>57i1jaol</td>\n",
       "      <td>BRCA1&lt;SEP&gt;patients</td>\n",
       "      <td>True</td>\n",
       "    </tr>\n",
       "    <tr>\n",
       "      <th>4</th>\n",
       "      <td>0qewmjn1</td>\n",
       "      <td>BRCA1&lt;SEP&gt;patients</td>\n",
       "      <td>True</td>\n",
       "    </tr>\n",
       "    <tr>\n",
       "      <th>...</th>\n",
       "      <td>...</td>\n",
       "      <td>...</td>\n",
       "      <td>...</td>\n",
       "    </tr>\n",
       "    <tr>\n",
       "      <th>3182</th>\n",
       "      <td>35z11126</td>\n",
       "      <td>breast cancer&lt;SEP&gt;death</td>\n",
       "      <td>True</td>\n",
       "    </tr>\n",
       "    <tr>\n",
       "      <th>3183</th>\n",
       "      <td>817f3rer</td>\n",
       "      <td>breast cancer&lt;SEP&gt;death</td>\n",
       "      <td>True</td>\n",
       "    </tr>\n",
       "    <tr>\n",
       "      <th>3184</th>\n",
       "      <td>oduk7qax</td>\n",
       "      <td>breast cancer&lt;SEP&gt;death</td>\n",
       "      <td>True</td>\n",
       "    </tr>\n",
       "    <tr>\n",
       "      <th>3185</th>\n",
       "      <td>398je5tr</td>\n",
       "      <td>breast cancer&lt;SEP&gt;death</td>\n",
       "      <td>True</td>\n",
       "    </tr>\n",
       "    <tr>\n",
       "      <th>3186</th>\n",
       "      <td>yhltrnlq</td>\n",
       "      <td>breast cancer&lt;SEP&gt;death</td>\n",
       "      <td>True</td>\n",
       "    </tr>\n",
       "  </tbody>\n",
       "</table>\n",
       "<p>3187 rows × 3 columns</p>\n",
       "</div>"
      ],
      "text/plain": [
       "      cord_uid                 relation original\n",
       "0     l0wc31to       BRCA1<SEP>patients     True\n",
       "1     ikstn4yk       BRCA1<SEP>patients     True\n",
       "2     bhsw2wv4       BRCA1<SEP>patients     True\n",
       "3     57i1jaol       BRCA1<SEP>patients     True\n",
       "4     0qewmjn1       BRCA1<SEP>patients     True\n",
       "...        ...                      ...      ...\n",
       "3182  35z11126  breast cancer<SEP>death     True\n",
       "3183  817f3rer  breast cancer<SEP>death     True\n",
       "3184  oduk7qax  breast cancer<SEP>death     True\n",
       "3185  398je5tr  breast cancer<SEP>death     True\n",
       "3186  yhltrnlq  breast cancer<SEP>death     True\n",
       "\n",
       "[3187 rows x 3 columns]"
      ]
     },
     "execution_count": 91,
     "metadata": {},
     "output_type": "execute_result"
    }
   ],
   "source": [
    "the_manager.gatherer.papers"
   ]
  }
 ],
 "metadata": {
  "interpreter": {
   "hash": "caa5824f7b33868d778b51c16e90bc7bd4be91aba3493046d2b42331ca349796"
  },
  "kernelspec": {
   "display_name": "Python 3.10.4 ('.venv': venv)",
   "language": "python",
   "name": "python3"
  },
  "language_info": {
   "codemirror_mode": {
    "name": "ipython",
    "version": 3
   },
   "file_extension": ".py",
   "mimetype": "text/x-python",
   "name": "python",
   "nbconvert_exporter": "python",
   "pygments_lexer": "ipython3",
   "version": "3.10.4"
  },
  "orig_nbformat": 4
 },
 "nbformat": 4,
 "nbformat_minor": 2
}
